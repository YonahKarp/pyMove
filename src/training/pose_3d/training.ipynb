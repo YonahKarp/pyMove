{
 "cells": [
  {
   "cell_type": "markdown",
   "metadata": {},
   "source": [
    "# FROM 2D to 3D"
   ]
  },
  {
   "cell_type": "markdown",
   "metadata": {},
   "source": [
    "## Import"
   ]
  },
  {
   "cell_type": "code",
   "execution_count": 2,
   "metadata": {},
   "outputs": [],
   "source": [
    "import os\n",
    "os.chdir(\"../../../\")"
   ]
  },
  {
   "cell_type": "code",
   "execution_count": 3,
   "metadata": {},
   "outputs": [
    {
     "data": {
      "text/html": [
       "<script>requirejs.config({paths: { 'plotly': ['https://cdn.plot.ly/plotly-latest.min']},});if(!window.Plotly) {{require(['plotly'],function(plotly) {window.Plotly=plotly;});}}</script>"
      ],
      "text/vnd.plotly.v1+html": [
       "<script>requirejs.config({paths: { 'plotly': ['https://cdn.plot.ly/plotly-latest.min']},});if(!window.Plotly) {{require(['plotly'],function(plotly) {window.Plotly=plotly;});}}</script>"
      ]
     },
     "metadata": {},
     "output_type": "display_data"
    },
    {
     "data": {
      "text/html": [
       "<script>requirejs.config({paths: { 'plotly': ['https://cdn.plot.ly/plotly-latest.min']},});if(!window.Plotly) {{require(['plotly'],function(plotly) {window.Plotly=plotly;});}}</script>"
      ],
      "text/vnd.plotly.v1+html": [
       "<script>requirejs.config({paths: { 'plotly': ['https://cdn.plot.ly/plotly-latest.min']},});if(!window.Plotly) {{require(['plotly'],function(plotly) {window.Plotly=plotly;});}}</script>"
      ]
     },
     "metadata": {},
     "output_type": "display_data"
    }
   ],
   "source": [
    "import sys\n",
    "import time\n",
    "\n",
    "import numpy as np\n",
    "import tensorflow as tf\n",
    "\n",
    "import math\n",
    "import random\n",
    "\n",
    "from src.training.pose_3d import h36m\n",
    "from src.training.pose_3d.linear_model import LinearModel\n",
    "import glob\n",
    "import h5py\n",
    "from src.utils.pose import PoseConfig\n",
    "from src.utils.pose import Pose2D\n",
    "from src.utils.pose import Pose3D\n",
    "import matplotlib.pyplot as plt\n",
    "\n",
    "import plotly\n",
    "import plotly.graph_objs as go\n",
    "from plotly.graph_objs import *\n",
    "\n",
    "plotly.offline.init_notebook_mode(connected=True)"
   ]
  },
  {
   "cell_type": "markdown",
   "metadata": {},
   "source": [
    "## Data visualisation for debug"
   ]
  },
  {
   "cell_type": "code",
   "execution_count": 1,
   "metadata": {},
   "outputs": [],
   "source": [
    "class Visualization:\n",
    "\n",
    "    @staticmethod\n",
    "    def plot_3d(joints_3d):\n",
    "\n",
    "        joints = joints_3d\n",
    "\n",
    "        trace1 = go.Scatter3d(\n",
    "            x=joints[:, 0],\n",
    "            y=joints[:, 1],\n",
    "            z=joints[:, 2],\n",
    "            mode='markers',\n",
    "            marker=dict(\n",
    "                size=5,\n",
    "                line=dict(\n",
    "                    color='rgba(200,200,200)',\n",
    "                    width=0.5\n",
    "                ),\n",
    "                opacity=0.8\n",
    "            ),\n",
    "            text= PoseConfig.NAMES\n",
    "        )\n",
    "\n",
    "        data = [trace1]\n",
    "        \n",
    "        camera = dict(\n",
    "            up=dict(x=1, y=0, z=0),\n",
    "            center=dict(x=0, y=0, z=0),\n",
    "            eye=dict(x=0, y=0, z=-2)\n",
    "        )\n",
    "\n",
    "        layout = go.Layout(\n",
    "            scene=dict(\n",
    "                xaxis=dict(nticks=4, range=[-1, 1], ),\n",
    "                yaxis=dict(nticks=4, range=[-1, 1], ),\n",
    "                zaxis=dict(nticks=4, range=[-1, 1], ),\n",
    "                aspectmode=\"manual\",\n",
    "                aspectratio=dict(x=1, y=1, z=1)\n",
    "            ),\n",
    "            width=500,\n",
    "            margin=dict(r=0, l=0, b=0, t=0)\n",
    "        )\n",
    "\n",
    "        fig = go.Figure(data=data, layout=layout)\n",
    "\n",
    "        fig['layout'].update(\n",
    "            scene=dict(camera=camera),\n",
    "            title=\"cam\"\n",
    "        )\n",
    "\n",
    "        plotly.offline.iplot(fig, filename='simple-3d-scatter')\n",
    "\n",
    "        \n",
    "    def plot_gt_vs_pred(gt_pos, pred_pos):\n",
    "\n",
    "        trace1 = go.Scatter3d(\n",
    "            x=gt_pos[:, 0],\n",
    "            y=gt_pos[:, 1],\n",
    "            z=gt_pos[:, 2],\n",
    "            mode='markers',\n",
    "            marker=dict(\n",
    "                size=5,\n",
    "                line=dict(\n",
    "                    color='rgba(217, 217, 217, 0.14)',\n",
    "                    width=0.5\n",
    "                ),\n",
    "                opacity=0.8\n",
    "            )\n",
    "        )\n",
    "\n",
    "        trace2 = go.Scatter3d(\n",
    "            x=pred_pos[:, 0],\n",
    "            y=pred_pos[:, 1],\n",
    "            z=pred_pos[:, 2],\n",
    "            mode='markers',\n",
    "            marker=dict(\n",
    "                color='rgb(327, 127, 57)',\n",
    "                size=5,\n",
    "                line=dict(\n",
    "                    color='rgba(217, 217, 217, 0.14)',\n",
    "                    width=0.5\n",
    "                ),\n",
    "                opacity=0.8\n",
    "            )\n",
    "        )\n",
    "\n",
    "        data = [trace1, trace2]\n",
    "\n",
    "        camera = dict(\n",
    "            up=dict(x=1, y=0, z=0),\n",
    "            center=dict(x=0, y=0, z=0),\n",
    "            eye=dict(x=0, y=0, z=-2)\n",
    "        )\n",
    "\n",
    "        layout = go.Layout(\n",
    "            scene=dict(\n",
    "                xaxis=dict(nticks=4, range=[-1, 1], ),\n",
    "                yaxis=dict(nticks=4, range=[-1, 1], ),\n",
    "                zaxis=dict(nticks=4, range=[-1, 1], ),\n",
    "                aspectmode=\"manual\",\n",
    "                aspectratio=dict(x=1, y=1, z=1)\n",
    "            ),\n",
    "            width=500,\n",
    "            margin=dict(r=0, l=0, b=0, t=0)\n",
    "        )\n",
    "\n",
    "        fig = go.Figure(data=data, layout=layout)\n",
    "\n",
    "        fig['layout'].update(\n",
    "            scene=dict(camera=camera),\n",
    "            title=\"cam\"\n",
    "        )\n",
    "\n",
    "        plotly.offline.iplot(fig, filename='simple-3d-scatter')\n",
    "\n"
   ]
  },
  {
   "cell_type": "markdown",
   "metadata": {},
   "source": [
    "## Build the dataset"
   ]
  },
  {
   "cell_type": "code",
   "execution_count": 4,
   "metadata": {},
   "outputs": [],
   "source": [
    "\"\"\"\n",
    "Returns a dictionary with keys k=(subject, action, seqname) and the joint position as value\n",
    "\"\"\"\n",
    "def read_data(bpath, subjects, actions):\n",
    "\n",
    "    dim=3\n",
    "\n",
    "    data = {}\n",
    "\n",
    "    # permutation from h36m joint order to our system\n",
    "    JOINTS_PERM = [15,17,25,18,26,19,27,6,1,7,2,8,3]\n",
    "    # permutation <x,y> on the first 2 dim and the depth in the third axis\n",
    "    AXIS_PERM = [0,2,1]\n",
    "\n",
    "    for subj in subjects:\n",
    "        for action in actions:\n",
    "\n",
    "            dpath = os.path.join(bpath, 'S{0}'.format(subj), 'MyPoses/{0}D_positions'.format(dim),\n",
    "                                 '{0}*.h5'.format(action))\n",
    "\n",
    "            fnames = glob.glob(dpath)\n",
    "\n",
    "            loaded_seqs = 0\n",
    "            for fname in fnames:\n",
    "                seqname = os.path.basename(fname)\n",
    "\n",
    "                # This rule makes sure SittingDown is not loaded when Sitting is requested\n",
    "                if action == \"Sitting\" and seqname.startswith(\"SittingDown\"):\n",
    "                    continue\n",
    "\n",
    "                # This rule makes sure that WalkDog and WalkTogeter are not loaded when\n",
    "                # Walking is requested.\n",
    "                if seqname.startswith(action):\n",
    "                    # print( fname )\n",
    "                    loaded_seqs = loaded_seqs + 1\n",
    "\n",
    "                    with h5py.File(fname, 'r') as h5f:\n",
    "                        poses = h5f['{0}D_positions'.format(dim)][:]\n",
    "\n",
    "                    poses = poses.T\n",
    "                    poses = poses.reshape((-1,32,3))\n",
    "                    poses = poses[:, JOINTS_PERM, :][:,:,AXIS_PERM]\n",
    "                    data[(subj, action, seqname)] = poses\n",
    "\n",
    "            if dim == 2:\n",
    "                assert loaded_seqs == 8, \"Expecting 8 sequences, found {0} instead\".format(loaded_seqs)\n",
    "            else:\n",
    "                assert loaded_seqs == 2, \"Expecting 2 sequences, found {0} instead\".format(loaded_seqs)\n",
    "\n",
    "    return data"
   ]
  },
  {
   "cell_type": "code",
   "execution_count": 9,
   "metadata": {},
   "outputs": [],
   "source": [
    "\"\"\"\n",
    "Return a tuple of numpy array with :\n",
    "1.- record's features corresponding to a normalized 2D pose\n",
    "2.- value corresponding to the third dimension to recover (mu at 0)\n",
    "Both rotation in radian\n",
    "\"\"\"\n",
    "def process_record(joints, subject_rot, camera_rot, has_symetry):\n",
    "\n",
    "    leftToRight = {1:2,3:4,5:6,7:8,9:10,11:12}\n",
    "    joints = joints.copy()\n",
    "    \n",
    "    # top/bottom reversed (in numpy array y=0 at the top)\n",
    "    joints[:, 1] = -joints[:, 1]\n",
    "\n",
    "    # symetry on X axis\n",
    "    if has_symetry:\n",
    "        joints[:, 0] = joints[:, 0] * (-1)\n",
    "        joints_sym = joints.copy()\n",
    "        for (leftId, rightId) in leftToRight.items():\n",
    "            joints_sym[leftId,:]  = joints[rightId, :]\n",
    "            joints_sym[rightId,:] = joints[leftId, :]\n",
    "        joints = joints_sym\n",
    "        \n",
    "    center_hip = (joints[PoseConfig.L_HIP,:] + joints[PoseConfig.R_HIP,:])/2.0\n",
    "    \n",
    "    joints[:,:] = joints[:,:] - center_hip\n",
    "\n",
    "    rot_1 = np.array([[math.cos(subject_rot), 0, math.sin(subject_rot)], [0, 1, 0], [-math.sin(subject_rot),0,math.cos(subject_rot)]])\n",
    "    rot_2 = np.array([[1, 0, 0], [0, math.cos(camera_rot), -math.sin(camera_rot)],[0, math.sin(camera_rot),math.cos(camera_rot)]])\n",
    "\n",
    "    for i in range(PoseConfig.get_total_joints()):\n",
    "        joints[i,:] = np.matmul(rot_2, np.matmul( rot_1, joints[i,:] ) )\n",
    "\n",
    "    return joints\n"
   ]
  },
  {
   "cell_type": "code",
   "execution_count": 10,
   "metadata": {},
   "outputs": [],
   "source": [
    "def process_dataset(h36_data, jumping_window = 1, total_rotations = 4, symetric_ratio = 0.7):\n",
    "\n",
    "    data = []\n",
    "\n",
    "    for scenes in h36_data.values():\n",
    "\n",
    "        for frameId in range(0, scenes.shape[0], jumping_window):\n",
    "\n",
    "            scene = scenes[frameId]\n",
    "            \n",
    "            is_sym = random.random() < symetric_ratio\n",
    "            data.append(process_record(scene, 0, 0, is_sym))\n",
    "            \n",
    "            for i in range(total_rotations):\n",
    "                \n",
    "                subject_rot = random.random()*(2*math.pi)\n",
    "                camera_rot = 0\n",
    "                is_sym = random.random() < symetric_ratio\n",
    "                \n",
    "                data.append(process_record(scene, subject_rot, camera_rot, is_sym))\n",
    "                            \n",
    "    return np.array(data)\n",
    "            "
   ]
  },
  {
   "cell_type": "code",
   "execution_count": 11,
   "metadata": {},
   "outputs": [
    {
     "name": "stdout",
     "output_type": "stream",
     "text": [
      "=================== head\n"
     ]
    },
    {
     "data": {
      "image/png": "[encoded data removed]",
      "text/plain": [
       "<Figure size 432x288 with 1 Axes>"
      ]
     },
     "metadata": {},
     "output_type": "display_data"
    },
    {
     "name": "stdout",
     "output_type": "stream",
     "text": [
      "=================== leftShoulder\n"
     ]
    },
    {
     "data": {
      "image/png": "[encoded data removed]",
      "text/plain": [
       "<Figure size 432x288 with 1 Axes>"
      ]
     },
     "metadata": {},
     "output_type": "display_data"
    },
    {
     "name": "stdout",
     "output_type": "stream",
     "text": [
      "=================== rightShoulder\n"
     ]
    },
    {
     "data": {
      "image/png": "[encoded data removed]",
      "text/plain": [
       "<Figure size 432x288 with 1 Axes>"
      ]
     },
     "metadata": {},
     "output_type": "display_data"
    },
    {
     "name": "stdout",
     "output_type": "stream",
     "text": [
      "=================== leftElbow\n"
     ]
    },
    {
     "data": {
      "image/png": "[encoded data removed]",
      "text/plain": [
       "<Figure size 432x288 with 1 Axes>"
      ]
     },
     "metadata": {},
     "output_type": "display_data"
    },
    {
     "name": "stdout",
     "output_type": "stream",
     "text": [
      "=================== rightElbow\n"
     ]
    },
    {
     "data": {
      "image/png": "[encoded data removed]",
      "text/plain": [
       "<Figure size 432x288 with 1 Axes>"
      ]
     },
     "metadata": {},
     "output_type": "display_data"
    },
    {
     "name": "stdout",
     "output_type": "stream",
     "text": [
      "=================== leftWrist\n"
     ]
    },
    {
     "data": {
      "image/png": "[encoded data removed]",
      "text/plain": [
       "<Figure size 432x288 with 1 Axes>"
      ]
     },
     "metadata": {},
     "output_type": "display_data"
    },
    {
     "name": "stdout",
     "output_type": "stream",
     "text": [
      "=================== rightWrist\n"
     ]
    },
    {
     "data": {
      "image/png": "[encoded data removed]",
      "text/plain": [
       "<Figure size 432x288 with 1 Axes>"
      ]
     },
     "metadata": {},
     "output_type": "display_data"
    },
    {
     "name": "stdout",
     "output_type": "stream",
     "text": [
      "=================== leftHip\n"
     ]
    },
    {
     "data": {
      "image/png": "[encoded data removed]",
      "text/plain": [
       "<Figure size 432x288 with 1 Axes>"
      ]
     },
     "metadata": {},
     "output_type": "display_data"
    },
    {
     "name": "stdout",
     "output_type": "stream",
     "text": [
      "=================== rightHip\n"
     ]
    },
    {
     "data": {
      "image/png": "[encoded data removed]",
      "text/plain": [
       "<Figure size 432x288 with 1 Axes>"
      ]
     },
     "metadata": {},
     "output_type": "display_data"
    },
    {
     "name": "stdout",
     "output_type": "stream",
     "text": [
      "=================== leftKnee\n"
     ]
    },
    {
     "data": {
      "image/png": "[encoded data removed]",
      "text/plain": [
       "<Figure size 432x288 with 1 Axes>"
      ]
     },
     "metadata": {},
     "output_type": "display_data"
    },
    {
     "name": "stdout",
     "output_type": "stream",
     "text": [
      "=================== rightKnee\n"
     ]
    },
    {
     "data": {
      "image/png": "[encoded data removed]",
      "text/plain": [
       "<Figure size 432x288 with 1 Axes>"
      ]
     },
     "metadata": {},
     "output_type": "display_data"
    },
    {
     "name": "stdout",
     "output_type": "stream",
     "text": [
      "=================== leftAnkle\n"
     ]
    },
    {
     "data": {
      "image/png": "[encoded data removed]",
      "text/plain": [
       "<Figure size 432x288 with 1 Axes>"
      ]
     },
     "metadata": {},
     "output_type": "display_data"
    },
    {
     "name": "stdout",
     "output_type": "stream",
     "text": [
      "=================== rightAnkle\n"
     ]
    },
    {
     "data": {
      "image/png": "[encoded data removed]",
      "text/plain": [
       "<Figure size 432x288 with 1 Axes>"
      ]
     },
     "metadata": {},
     "output_type": "display_data"
    }
   ],
   "source": [
    "data = read_data(\"dataset/human36M/data/\", [1], [\"Directions\"])\n",
    "frame_id = 0\n",
    "joints = data[(1,'Directions','Directions 1.h5')][frame_id]\n",
    "\n",
    "for i in range(PoseConfig.get_total_joints()):\n",
    "\n",
    "    print(\"=================== \"+PoseConfig.NAMES[i])\n",
    "\n",
    "    plt.scatter(x=joints[i,0], y=joints[i,1], c='r')\n",
    "    axes = plt.gca()\n",
    "    axes.set_xlim([-1000,1000])\n",
    "    axes.set_ylim([0,2000])\n",
    "\n",
    "    other_joints = [joint_id for joint_id in range(PoseConfig.get_total_joints()) if joint_id != i]\n",
    "    plt.scatter(x=joints[other_joints,0],y=joints[other_joints,1])\n",
    "    plt.show()\n",
    "    "
   ]
  },
  {
   "cell_type": "code",
   "execution_count": null,
   "metadata": {},
   "outputs": [],
   "source": []
  },
  {
   "cell_type": "code",
   "execution_count": 13,
   "metadata": {},
   "outputs": [
    {
     "data": {
      "application/vnd.plotly.v1+json": {
       "data": [
        {
         "marker": {
          "line": {
           "color": "rgba(200,200,200)",
           "width": 0.5
          },
          "opacity": 0.8,
          "size": 5
         },
         "mode": "markers",
         "text": [
          "head",
          "leftShoulder",
          "rightShoulder",
          "leftElbow",
          "rightElbow",
          "leftWrist",
          "rightWrist",
          "leftHip",
          "rightHip",
          "leftKnee",
          "rightKnee",
          "leftAnkle",
          "rightAnkle"
         ],
         "type": "scatter3d",
         "uid": "f501856e-b372-11e8-adf3-fa163ee24c06",
         "x": [
          -0.029771425358840142,
          0.12214555576017427,
          -0.14448048548424808,
          0.20724313496756208,
          -0.2333580262316185,
          0.22976446807732676,
          -0.26773093439323215,
          0.13690776557886086,
          -0.13690776557886075,
          0.08303907547953449,
          -0.1007137072147628,
          0.041473364082654784,
          -0.17732904723300313
         ],
         "y": [
          -0.693088639402305,
          -0.4044157557753494,
          -0.4212426603418806,
          -0.13831926653677296,
          -0.14784670946384448,
          0.05838731008363962,
          0.07796867575291033,
          -0.017394854987120567,
          0.017394854987120567,
          0.44000906193061773,
          0.4495576529612402,
          0.9067761548337127,
          0.8801548879483134
         ],
         "z": [
          0.0378262331142436,
          0.039634983415171354,
          0.05056571097614038,
          -0.038825099960115406,
          0.010986384225381896,
          -0.21031136041669762,
          -0.11719902704116869,
          -0.009496506680998662,
          0.009496506680998662,
          0.006332150240890733,
          -0.14637587831114485,
          0.06763948631002448,
          0.03271566370012646
         ]
        }
       ],
       "layout": {
        "margin": {
         "b": 0,
         "l": 0,
         "r": 0,
         "t": 0
        },
        "scene": {
         "aspectmode": "manual",
         "aspectratio": {
          "x": 1,
          "y": 1,
          "z": 1
         },
         "camera": {
          "center": {
           "x": 0,
           "y": 0,
           "z": 0
          },
          "eye": {
           "x": 0,
           "y": 0,
           "z": -2
          },
          "up": {
           "x": 1,
           "y": 0,
           "z": 0
          }
         },
         "xaxis": {
          "nticks": 4,
          "range": [
           -1,
           1
          ]
         },
         "yaxis": {
          "nticks": 4,
          "range": [
           -1,
           1
          ]
         },
         "zaxis": {
          "nticks": 4,
          "range": [
           -1,
           1
          ]
         }
        },
        "title": "cam",
        "width": 500
       }
      },
      "text/html": [
       "<div id=\"a94c1990-0141-4f9a-a01c-155fd3a318e9\" style=\"height: 525px; width: 500px;\" class=\"plotly-graph-div\"></div><script type=\"text/javascript\">require([\"plotly\"], function(Plotly) { window.PLOTLYENV=window.PLOTLYENV || {};window.PLOTLYENV.BASE_URL=\"https://plot.ly\";\n",
       "        Plotly.plot(\n",
       "            'a94c1990-0141-4f9a-a01c-155fd3a318e9',\n",
       "            [{\"marker\": {\"line\": {\"color\": \"rgba(200,200,200)\", \"width\": 0.5}, \"opacity\": 0.8, \"size\": 5}, \"mode\": \"markers\", \"text\": [\"head\", \"leftShoulder\", \"rightShoulder\", \"leftElbow\", \"rightElbow\", \"leftWrist\", \"rightWrist\", \"leftHip\", \"rightHip\", \"leftKnee\", \"rightKnee\", \"leftAnkle\", \"rightAnkle\"], \"x\": [-0.029771425358840142, 0.12214555576017427, -0.14448048548424808, 0.20724313496756208, -0.2333580262316185, 0.22976446807732676, -0.26773093439323215, 0.13690776557886086, -0.13690776557886075, 0.08303907547953449, -0.1007137072147628, 0.041473364082654784, -0.17732904723300313], \"y\": [-0.693088639402305, -0.4044157557753494, -0.4212426603418806, -0.13831926653677296, -0.14784670946384448, 0.05838731008363962, 0.07796867575291033, -0.017394854987120567, 0.017394854987120567, 0.44000906193061773, 0.4495576529612402, 0.9067761548337127, 0.8801548879483134], \"z\": [0.0378262331142436, 0.039634983415171354, 0.05056571097614038, -0.038825099960115406, 0.010986384225381896, -0.21031136041669762, -0.11719902704116869, -0.009496506680998662, 0.009496506680998662, 0.006332150240890733, -0.14637587831114485, 0.06763948631002448, 0.03271566370012646], \"type\": \"scatter3d\", \"uid\": \"f501856e-b372-11e8-adf3-fa163ee24c06\"}],\n",
       "            {\"margin\": {\"b\": 0, \"l\": 0, \"r\": 0, \"t\": 0}, \"scene\": {\"aspectmode\": \"manual\", \"aspectratio\": {\"x\": 1, \"y\": 1, \"z\": 1}, \"xaxis\": {\"nticks\": 4, \"range\": [-1, 1]}, \"yaxis\": {\"nticks\": 4, \"range\": [-1, 1]}, \"zaxis\": {\"nticks\": 4, \"range\": [-1, 1]}, \"camera\": {\"up\": {\"x\": 1, \"y\": 0, \"z\": 0}, \"center\": {\"x\": 0, \"y\": 0, \"z\": 0}, \"eye\": {\"x\": 0, \"y\": 0, \"z\": -2}}}, \"width\": 500, \"title\": \"cam\"},\n",
       "            {\"showLink\": true, \"linkText\": \"Export to plot.ly\"}\n",
       "        ).then(function () {return Plotly.addFrames('a94c1990-0141-4f9a-a01c-155fd3a318e9',{});}).then(function(){Plotly.animate('a94c1990-0141-4f9a-a01c-155fd3a318e9');})\n",
       "        });</script>"
      ],
      "text/vnd.plotly.v1+html": [
       "<div id=\"a94c1990-0141-4f9a-a01c-155fd3a318e9\" style=\"height: 525px; width: 500px;\" class=\"plotly-graph-div\"></div><script type=\"text/javascript\">require([\"plotly\"], function(Plotly) { window.PLOTLYENV=window.PLOTLYENV || {};window.PLOTLYENV.BASE_URL=\"https://plot.ly\";\n",
       "        Plotly.plot(\n",
       "            'a94c1990-0141-4f9a-a01c-155fd3a318e9',\n",
       "            [{\"marker\": {\"line\": {\"color\": \"rgba(200,200,200)\", \"width\": 0.5}, \"opacity\": 0.8, \"size\": 5}, \"mode\": \"markers\", \"text\": [\"head\", \"leftShoulder\", \"rightShoulder\", \"leftElbow\", \"rightElbow\", \"leftWrist\", \"rightWrist\", \"leftHip\", \"rightHip\", \"leftKnee\", \"rightKnee\", \"leftAnkle\", \"rightAnkle\"], \"x\": [-0.029771425358840142, 0.12214555576017427, -0.14448048548424808, 0.20724313496756208, -0.2333580262316185, 0.22976446807732676, -0.26773093439323215, 0.13690776557886086, -0.13690776557886075, 0.08303907547953449, -0.1007137072147628, 0.041473364082654784, -0.17732904723300313], \"y\": [-0.693088639402305, -0.4044157557753494, -0.4212426603418806, -0.13831926653677296, -0.14784670946384448, 0.05838731008363962, 0.07796867575291033, -0.017394854987120567, 0.017394854987120567, 0.44000906193061773, 0.4495576529612402, 0.9067761548337127, 0.8801548879483134], \"z\": [0.0378262331142436, 0.039634983415171354, 0.05056571097614038, -0.038825099960115406, 0.010986384225381896, -0.21031136041669762, -0.11719902704116869, -0.009496506680998662, 0.009496506680998662, 0.006332150240890733, -0.14637587831114485, 0.06763948631002448, 0.03271566370012646], \"type\": \"scatter3d\", \"uid\": \"f501856e-b372-11e8-adf3-fa163ee24c06\"}],\n",
       "            {\"margin\": {\"b\": 0, \"l\": 0, \"r\": 0, \"t\": 0}, \"scene\": {\"aspectmode\": \"manual\", \"aspectratio\": {\"x\": 1, \"y\": 1, \"z\": 1}, \"xaxis\": {\"nticks\": 4, \"range\": [-1, 1]}, \"yaxis\": {\"nticks\": 4, \"range\": [-1, 1]}, \"zaxis\": {\"nticks\": 4, \"range\": [-1, 1]}, \"camera\": {\"up\": {\"x\": 1, \"y\": 0, \"z\": 0}, \"center\": {\"x\": 0, \"y\": 0, \"z\": 0}, \"eye\": {\"x\": 0, \"y\": 0, \"z\": -2}}}, \"width\": 500, \"title\": \"cam\"},\n",
       "            {\"showLink\": true, \"linkText\": \"Export to plot.ly\"}\n",
       "        ).then(function () {return Plotly.addFrames('a94c1990-0141-4f9a-a01c-155fd3a318e9',{});}).then(function(){Plotly.animate('a94c1990-0141-4f9a-a01c-155fd3a318e9');})\n",
       "        });</script>"
      ]
     },
     "metadata": {},
     "output_type": "display_data"
    },
    {
     "data": {
      "application/vnd.plotly.v1+json": {
       "data": [
        {
         "marker": {
          "line": {
           "color": "rgba(200,200,200)",
           "width": 0.5
          },
          "opacity": 0.8,
          "size": 5
         },
         "mode": "markers",
         "text": [
          "head",
          "leftShoulder",
          "rightShoulder",
          "leftElbow",
          "rightElbow",
          "leftWrist",
          "rightWrist",
          "leftHip",
          "rightHip",
          "leftKnee",
          "rightKnee",
          "leftAnkle",
          "rightAnkle"
         ],
         "type": "scatter3d",
         "uid": "f501856f-b372-11e8-adf3-fa163ee24c06",
         "x": [
          0.029771425358840142,
          0.14448048548424808,
          -0.12214555576017427,
          0.2333580262316185,
          -0.20724313496756208,
          0.26773093439323215,
          -0.22976446807732676,
          0.13690776557886075,
          -0.13690776557886086,
          0.1007137072147628,
          -0.08303907547953449,
          0.17732904723300313,
          -0.041473364082654784
         ],
         "y": [
          -0.693088639402305,
          -0.4212426603418806,
          -0.4044157557753494,
          -0.14784670946384448,
          -0.13831926653677296,
          0.07796867575291033,
          0.05838731008363962,
          0.017394854987120567,
          -0.017394854987120567,
          0.4495576529612402,
          0.44000906193061773,
          0.8801548879483134,
          0.9067761548337127
         ],
         "z": [
          0.0378262331142436,
          0.05056571097614038,
          0.039634983415171354,
          0.010986384225381896,
          -0.038825099960115406,
          -0.11719902704116869,
          -0.21031136041669762,
          0.009496506680998662,
          -0.009496506680998662,
          -0.14637587831114485,
          0.006332150240890733,
          0.03271566370012646,
          0.06763948631002448
         ]
        }
       ],
       "layout": {
        "margin": {
         "b": 0,
         "l": 0,
         "r": 0,
         "t": 0
        },
        "scene": {
         "aspectmode": "manual",
         "aspectratio": {
          "x": 1,
          "y": 1,
          "z": 1
         },
         "camera": {
          "center": {
           "x": 0,
           "y": 0,
           "z": 0
          },
          "eye": {
           "x": 0,
           "y": 0,
           "z": -2
          },
          "up": {
           "x": 1,
           "y": 0,
           "z": 0
          }
         },
         "xaxis": {
          "nticks": 4,
          "range": [
           -1,
           1
          ]
         },
         "yaxis": {
          "nticks": 4,
          "range": [
           -1,
           1
          ]
         },
         "zaxis": {
          "nticks": 4,
          "range": [
           -1,
           1
          ]
         }
        },
        "title": "cam",
        "width": 500
       }
      },
      "text/html": [
       "<div id=\"0b447960-f7b9-4faf-84db-dfd1ed47a533\" style=\"height: 525px; width: 500px;\" class=\"plotly-graph-div\"></div><script type=\"text/javascript\">require([\"plotly\"], function(Plotly) { window.PLOTLYENV=window.PLOTLYENV || {};window.PLOTLYENV.BASE_URL=\"https://plot.ly\";\n",
       "        Plotly.plot(\n",
       "            '0b447960-f7b9-4faf-84db-dfd1ed47a533',\n",
       "            [{\"marker\": {\"line\": {\"color\": \"rgba(200,200,200)\", \"width\": 0.5}, \"opacity\": 0.8, \"size\": 5}, \"mode\": \"markers\", \"text\": [\"head\", \"leftShoulder\", \"rightShoulder\", \"leftElbow\", \"rightElbow\", \"leftWrist\", \"rightWrist\", \"leftHip\", \"rightHip\", \"leftKnee\", \"rightKnee\", \"leftAnkle\", \"rightAnkle\"], \"x\": [0.029771425358840142, 0.14448048548424808, -0.12214555576017427, 0.2333580262316185, -0.20724313496756208, 0.26773093439323215, -0.22976446807732676, 0.13690776557886075, -0.13690776557886086, 0.1007137072147628, -0.08303907547953449, 0.17732904723300313, -0.041473364082654784], \"y\": [-0.693088639402305, -0.4212426603418806, -0.4044157557753494, -0.14784670946384448, -0.13831926653677296, 0.07796867575291033, 0.05838731008363962, 0.017394854987120567, -0.017394854987120567, 0.4495576529612402, 0.44000906193061773, 0.8801548879483134, 0.9067761548337127], \"z\": [0.0378262331142436, 0.05056571097614038, 0.039634983415171354, 0.010986384225381896, -0.038825099960115406, -0.11719902704116869, -0.21031136041669762, 0.009496506680998662, -0.009496506680998662, -0.14637587831114485, 0.006332150240890733, 0.03271566370012646, 0.06763948631002448], \"type\": \"scatter3d\", \"uid\": \"f501856f-b372-11e8-adf3-fa163ee24c06\"}],\n",
       "            {\"margin\": {\"b\": 0, \"l\": 0, \"r\": 0, \"t\": 0}, \"scene\": {\"aspectmode\": \"manual\", \"aspectratio\": {\"x\": 1, \"y\": 1, \"z\": 1}, \"xaxis\": {\"nticks\": 4, \"range\": [-1, 1]}, \"yaxis\": {\"nticks\": 4, \"range\": [-1, 1]}, \"zaxis\": {\"nticks\": 4, \"range\": [-1, 1]}, \"camera\": {\"up\": {\"x\": 1, \"y\": 0, \"z\": 0}, \"center\": {\"x\": 0, \"y\": 0, \"z\": 0}, \"eye\": {\"x\": 0, \"y\": 0, \"z\": -2}}}, \"width\": 500, \"title\": \"cam\"},\n",
       "            {\"showLink\": true, \"linkText\": \"Export to plot.ly\"}\n",
       "        ).then(function () {return Plotly.addFrames('0b447960-f7b9-4faf-84db-dfd1ed47a533',{});}).then(function(){Plotly.animate('0b447960-f7b9-4faf-84db-dfd1ed47a533');})\n",
       "        });</script>"
      ],
      "text/vnd.plotly.v1+html": [
       "<div id=\"0b447960-f7b9-4faf-84db-dfd1ed47a533\" style=\"height: 525px; width: 500px;\" class=\"plotly-graph-div\"></div><script type=\"text/javascript\">require([\"plotly\"], function(Plotly) { window.PLOTLYENV=window.PLOTLYENV || {};window.PLOTLYENV.BASE_URL=\"https://plot.ly\";\n",
       "        Plotly.plot(\n",
       "            '0b447960-f7b9-4faf-84db-dfd1ed47a533',\n",
       "            [{\"marker\": {\"line\": {\"color\": \"rgba(200,200,200)\", \"width\": 0.5}, \"opacity\": 0.8, \"size\": 5}, \"mode\": \"markers\", \"text\": [\"head\", \"leftShoulder\", \"rightShoulder\", \"leftElbow\", \"rightElbow\", \"leftWrist\", \"rightWrist\", \"leftHip\", \"rightHip\", \"leftKnee\", \"rightKnee\", \"leftAnkle\", \"rightAnkle\"], \"x\": [0.029771425358840142, 0.14448048548424808, -0.12214555576017427, 0.2333580262316185, -0.20724313496756208, 0.26773093439323215, -0.22976446807732676, 0.13690776557886075, -0.13690776557886086, 0.1007137072147628, -0.08303907547953449, 0.17732904723300313, -0.041473364082654784], \"y\": [-0.693088639402305, -0.4212426603418806, -0.4044157557753494, -0.14784670946384448, -0.13831926653677296, 0.07796867575291033, 0.05838731008363962, 0.017394854987120567, -0.017394854987120567, 0.4495576529612402, 0.44000906193061773, 0.8801548879483134, 0.9067761548337127], \"z\": [0.0378262331142436, 0.05056571097614038, 0.039634983415171354, 0.010986384225381896, -0.038825099960115406, -0.11719902704116869, -0.21031136041669762, 0.009496506680998662, -0.009496506680998662, -0.14637587831114485, 0.006332150240890733, 0.03271566370012646, 0.06763948631002448], \"type\": \"scatter3d\", \"uid\": \"f501856f-b372-11e8-adf3-fa163ee24c06\"}],\n",
       "            {\"margin\": {\"b\": 0, \"l\": 0, \"r\": 0, \"t\": 0}, \"scene\": {\"aspectmode\": \"manual\", \"aspectratio\": {\"x\": 1, \"y\": 1, \"z\": 1}, \"xaxis\": {\"nticks\": 4, \"range\": [-1, 1]}, \"yaxis\": {\"nticks\": 4, \"range\": [-1, 1]}, \"zaxis\": {\"nticks\": 4, \"range\": [-1, 1]}, \"camera\": {\"up\": {\"x\": 1, \"y\": 0, \"z\": 0}, \"center\": {\"x\": 0, \"y\": 0, \"z\": 0}, \"eye\": {\"x\": 0, \"y\": 0, \"z\": -2}}}, \"width\": 500, \"title\": \"cam\"},\n",
       "            {\"showLink\": true, \"linkText\": \"Export to plot.ly\"}\n",
       "        ).then(function () {return Plotly.addFrames('0b447960-f7b9-4faf-84db-dfd1ed47a533',{});}).then(function(){Plotly.animate('0b447960-f7b9-4faf-84db-dfd1ed47a533');})\n",
       "        });</script>"
      ]
     },
     "metadata": {},
     "output_type": "display_data"
    },
    {
     "data": {
      "application/vnd.plotly.v1+json": {
       "data": [
        {
         "marker": {
          "line": {
           "color": "rgba(200,200,200)",
           "width": 0.5
          },
          "opacity": 0.8,
          "size": 5
         },
         "mode": "markers",
         "text": [
          "head",
          "leftShoulder",
          "rightShoulder",
          "leftElbow",
          "rightElbow",
          "leftWrist",
          "rightWrist",
          "leftHip",
          "rightHip",
          "leftKnee",
          "rightKnee",
          "leftAnkle",
          "rightAnkle"
         ],
         "type": "scatter3d",
         "uid": "f5018570-b372-11e8-adf3-fa163ee24c06",
         "x": [
          0.01787276612698704,
          0.09539768039620045,
          -0.028449052476364867,
          0.06999804461385092,
          -0.10716452528089193,
          -0.06725274678666174,
          -0.23536280191308756,
          0.06022966675647696,
          -0.0602296667564769,
          0.047003340708958376,
          -0.17712208272609248,
          0.07931419548473835,
          -0.060331927750523665
         ],
         "y": [
          -0.693088639402305,
          -0.4044157557753494,
          -0.4212426603418806,
          -0.13831926653677296,
          -0.14784670946384448,
          0.05838731008363962,
          0.07796867575291033,
          -0.017394854987120567,
          0.017394854987120567,
          0.44000906193061773,
          0.4495576529612402,
          0.9067761548337127,
          0.8801548879483134
         ],
         "z": [
          0.04469592722474962,
          -0.08596366254009391,
          0.15040662626853785,
          -0.19889036962189355,
          0.20758717100626797,
          -0.30413754645033253,
          0.17326227704289954,
          -0.12331385630715758,
          0.12331385630715748,
          -0.06874787375160496,
          0.014032689801720247,
          -0.002097243720967895,
          0.16992929158273457
         ]
        }
       ],
       "layout": {
        "margin": {
         "b": 0,
         "l": 0,
         "r": 0,
         "t": 0
        },
        "scene": {
         "aspectmode": "manual",
         "aspectratio": {
          "x": 1,
          "y": 1,
          "z": 1
         },
         "camera": {
          "center": {
           "x": 0,
           "y": 0,
           "z": 0
          },
          "eye": {
           "x": 0,
           "y": 0,
           "z": -2
          },
          "up": {
           "x": 1,
           "y": 0,
           "z": 0
          }
         },
         "xaxis": {
          "nticks": 4,
          "range": [
           -1,
           1
          ]
         },
         "yaxis": {
          "nticks": 4,
          "range": [
           -1,
           1
          ]
         },
         "zaxis": {
          "nticks": 4,
          "range": [
           -1,
           1
          ]
         }
        },
        "title": "cam",
        "width": 500
       }
      },
      "text/html": [
       "<div id=\"5af8f782-3009-4e44-9423-1db74febb47f\" style=\"height: 525px; width: 500px;\" class=\"plotly-graph-div\"></div><script type=\"text/javascript\">require([\"plotly\"], function(Plotly) { window.PLOTLYENV=window.PLOTLYENV || {};window.PLOTLYENV.BASE_URL=\"https://plot.ly\";\n",
       "        Plotly.plot(\n",
       "            '5af8f782-3009-4e44-9423-1db74febb47f',\n",
       "            [{\"marker\": {\"line\": {\"color\": \"rgba(200,200,200)\", \"width\": 0.5}, \"opacity\": 0.8, \"size\": 5}, \"mode\": \"markers\", \"text\": [\"head\", \"leftShoulder\", \"rightShoulder\", \"leftElbow\", \"rightElbow\", \"leftWrist\", \"rightWrist\", \"leftHip\", \"rightHip\", \"leftKnee\", \"rightKnee\", \"leftAnkle\", \"rightAnkle\"], \"x\": [0.01787276612698704, 0.09539768039620045, -0.028449052476364867, 0.06999804461385092, -0.10716452528089193, -0.06725274678666174, -0.23536280191308756, 0.06022966675647696, -0.0602296667564769, 0.047003340708958376, -0.17712208272609248, 0.07931419548473835, -0.060331927750523665], \"y\": [-0.693088639402305, -0.4044157557753494, -0.4212426603418806, -0.13831926653677296, -0.14784670946384448, 0.05838731008363962, 0.07796867575291033, -0.017394854987120567, 0.017394854987120567, 0.44000906193061773, 0.4495576529612402, 0.9067761548337127, 0.8801548879483134], \"z\": [0.04469592722474962, -0.08596366254009391, 0.15040662626853785, -0.19889036962189355, 0.20758717100626797, -0.30413754645033253, 0.17326227704289954, -0.12331385630715758, 0.12331385630715748, -0.06874787375160496, 0.014032689801720247, -0.002097243720967895, 0.16992929158273457], \"type\": \"scatter3d\", \"uid\": \"f5018570-b372-11e8-adf3-fa163ee24c06\"}],\n",
       "            {\"margin\": {\"b\": 0, \"l\": 0, \"r\": 0, \"t\": 0}, \"scene\": {\"aspectmode\": \"manual\", \"aspectratio\": {\"x\": 1, \"y\": 1, \"z\": 1}, \"xaxis\": {\"nticks\": 4, \"range\": [-1, 1]}, \"yaxis\": {\"nticks\": 4, \"range\": [-1, 1]}, \"zaxis\": {\"nticks\": 4, \"range\": [-1, 1]}, \"camera\": {\"up\": {\"x\": 1, \"y\": 0, \"z\": 0}, \"center\": {\"x\": 0, \"y\": 0, \"z\": 0}, \"eye\": {\"x\": 0, \"y\": 0, \"z\": -2}}}, \"width\": 500, \"title\": \"cam\"},\n",
       "            {\"showLink\": true, \"linkText\": \"Export to plot.ly\"}\n",
       "        ).then(function () {return Plotly.addFrames('5af8f782-3009-4e44-9423-1db74febb47f',{});}).then(function(){Plotly.animate('5af8f782-3009-4e44-9423-1db74febb47f');})\n",
       "        });</script>"
      ],
      "text/vnd.plotly.v1+html": [
       "<div id=\"5af8f782-3009-4e44-9423-1db74febb47f\" style=\"height: 525px; width: 500px;\" class=\"plotly-graph-div\"></div><script type=\"text/javascript\">require([\"plotly\"], function(Plotly) { window.PLOTLYENV=window.PLOTLYENV || {};window.PLOTLYENV.BASE_URL=\"https://plot.ly\";\n",
       "        Plotly.plot(\n",
       "            '5af8f782-3009-4e44-9423-1db74febb47f',\n",
       "            [{\"marker\": {\"line\": {\"color\": \"rgba(200,200,200)\", \"width\": 0.5}, \"opacity\": 0.8, \"size\": 5}, \"mode\": \"markers\", \"text\": [\"head\", \"leftShoulder\", \"rightShoulder\", \"leftElbow\", \"rightElbow\", \"leftWrist\", \"rightWrist\", \"leftHip\", \"rightHip\", \"leftKnee\", \"rightKnee\", \"leftAnkle\", \"rightAnkle\"], \"x\": [0.01787276612698704, 0.09539768039620045, -0.028449052476364867, 0.06999804461385092, -0.10716452528089193, -0.06725274678666174, -0.23536280191308756, 0.06022966675647696, -0.0602296667564769, 0.047003340708958376, -0.17712208272609248, 0.07931419548473835, -0.060331927750523665], \"y\": [-0.693088639402305, -0.4044157557753494, -0.4212426603418806, -0.13831926653677296, -0.14784670946384448, 0.05838731008363962, 0.07796867575291033, -0.017394854987120567, 0.017394854987120567, 0.44000906193061773, 0.4495576529612402, 0.9067761548337127, 0.8801548879483134], \"z\": [0.04469592722474962, -0.08596366254009391, 0.15040662626853785, -0.19889036962189355, 0.20758717100626797, -0.30413754645033253, 0.17326227704289954, -0.12331385630715758, 0.12331385630715748, -0.06874787375160496, 0.014032689801720247, -0.002097243720967895, 0.16992929158273457], \"type\": \"scatter3d\", \"uid\": \"f5018570-b372-11e8-adf3-fa163ee24c06\"}],\n",
       "            {\"margin\": {\"b\": 0, \"l\": 0, \"r\": 0, \"t\": 0}, \"scene\": {\"aspectmode\": \"manual\", \"aspectratio\": {\"x\": 1, \"y\": 1, \"z\": 1}, \"xaxis\": {\"nticks\": 4, \"range\": [-1, 1]}, \"yaxis\": {\"nticks\": 4, \"range\": [-1, 1]}, \"zaxis\": {\"nticks\": 4, \"range\": [-1, 1]}, \"camera\": {\"up\": {\"x\": 1, \"y\": 0, \"z\": 0}, \"center\": {\"x\": 0, \"y\": 0, \"z\": 0}, \"eye\": {\"x\": 0, \"y\": 0, \"z\": -2}}}, \"width\": 500, \"title\": \"cam\"},\n",
       "            {\"showLink\": true, \"linkText\": \"Export to plot.ly\"}\n",
       "        ).then(function () {return Plotly.addFrames('5af8f782-3009-4e44-9423-1db74febb47f',{});}).then(function(){Plotly.animate('5af8f782-3009-4e44-9423-1db74febb47f');})\n",
       "        });</script>"
      ]
     },
     "metadata": {},
     "output_type": "display_data"
    },
    {
     "data": {
      "application/vnd.plotly.v1+json": {
       "data": [
        {
         "marker": {
          "line": {
           "color": "rgba(200,200,200)",
           "width": 0.5
          },
          "opacity": 0.8,
          "size": 5
         },
         "mode": "markers",
         "text": [
          "head",
          "leftShoulder",
          "rightShoulder",
          "leftElbow",
          "rightElbow",
          "leftWrist",
          "rightWrist",
          "leftHip",
          "rightHip",
          "leftKnee",
          "rightKnee",
          "leftAnkle",
          "rightAnkle"
         ],
         "type": "scatter3d",
         "uid": "f5018571-b372-11e8-adf3-fa163ee24c06",
         "x": [
          0.01787276612698704,
          0.09539768039620045,
          -0.028449052476364867,
          0.06999804461385092,
          -0.10716452528089193,
          -0.06725274678666174,
          -0.23536280191308756,
          0.06022966675647696,
          -0.0602296667564769,
          0.047003340708958376,
          -0.17712208272609248,
          0.07931419548473835,
          -0.060331927750523665
         ],
         "y": [
          -0.693088639402305,
          -0.4044157557753494,
          -0.4212426603418806,
          -0.13831926653677296,
          -0.14784670946384448,
          0.05838731008363962,
          0.07796867575291033,
          -0.017394854987120567,
          0.017394854987120567,
          0.44000906193061773,
          0.4495576529612402,
          0.9067761548337127,
          0.8801548879483134
         ],
         "z": [
          0.04469592722474962,
          -0.08596366254009391,
          0.15040662626853785,
          -0.19889036962189355,
          0.20758717100626797,
          -0.30413754645033253,
          0.17326227704289954,
          -0.12331385630715758,
          0.12331385630715748,
          -0.06874787375160496,
          0.014032689801720247,
          -0.002097243720967895,
          0.16992929158273457
         ]
        }
       ],
       "layout": {
        "margin": {
         "b": 0,
         "l": 0,
         "r": 0,
         "t": 0
        },
        "scene": {
         "aspectmode": "manual",
         "aspectratio": {
          "x": 1,
          "y": 1,
          "z": 1
         },
         "camera": {
          "center": {
           "x": 0,
           "y": 0,
           "z": 0
          },
          "eye": {
           "x": 0,
           "y": 0,
           "z": -2
          },
          "up": {
           "x": 1,
           "y": 0,
           "z": 0
          }
         },
         "xaxis": {
          "nticks": 4,
          "range": [
           -1,
           1
          ]
         },
         "yaxis": {
          "nticks": 4,
          "range": [
           -1,
           1
          ]
         },
         "zaxis": {
          "nticks": 4,
          "range": [
           -1,
           1
          ]
         }
        },
        "title": "cam",
        "width": 500
       }
      },
      "text/html": [
       "<div id=\"ade1feae-5059-4e3c-8897-d97874edd628\" style=\"height: 525px; width: 500px;\" class=\"plotly-graph-div\"></div><script type=\"text/javascript\">require([\"plotly\"], function(Plotly) { window.PLOTLYENV=window.PLOTLYENV || {};window.PLOTLYENV.BASE_URL=\"https://plot.ly\";\n",
       "        Plotly.plot(\n",
       "            'ade1feae-5059-4e3c-8897-d97874edd628',\n",
       "            [{\"marker\": {\"line\": {\"color\": \"rgba(200,200,200)\", \"width\": 0.5}, \"opacity\": 0.8, \"size\": 5}, \"mode\": \"markers\", \"text\": [\"head\", \"leftShoulder\", \"rightShoulder\", \"leftElbow\", \"rightElbow\", \"leftWrist\", \"rightWrist\", \"leftHip\", \"rightHip\", \"leftKnee\", \"rightKnee\", \"leftAnkle\", \"rightAnkle\"], \"x\": [0.01787276612698704, 0.09539768039620045, -0.028449052476364867, 0.06999804461385092, -0.10716452528089193, -0.06725274678666174, -0.23536280191308756, 0.06022966675647696, -0.0602296667564769, 0.047003340708958376, -0.17712208272609248, 0.07931419548473835, -0.060331927750523665], \"y\": [-0.693088639402305, -0.4044157557753494, -0.4212426603418806, -0.13831926653677296, -0.14784670946384448, 0.05838731008363962, 0.07796867575291033, -0.017394854987120567, 0.017394854987120567, 0.44000906193061773, 0.4495576529612402, 0.9067761548337127, 0.8801548879483134], \"z\": [0.04469592722474962, -0.08596366254009391, 0.15040662626853785, -0.19889036962189355, 0.20758717100626797, -0.30413754645033253, 0.17326227704289954, -0.12331385630715758, 0.12331385630715748, -0.06874787375160496, 0.014032689801720247, -0.002097243720967895, 0.16992929158273457], \"type\": \"scatter3d\", \"uid\": \"f5018571-b372-11e8-adf3-fa163ee24c06\"}],\n",
       "            {\"margin\": {\"b\": 0, \"l\": 0, \"r\": 0, \"t\": 0}, \"scene\": {\"aspectmode\": \"manual\", \"aspectratio\": {\"x\": 1, \"y\": 1, \"z\": 1}, \"xaxis\": {\"nticks\": 4, \"range\": [-1, 1]}, \"yaxis\": {\"nticks\": 4, \"range\": [-1, 1]}, \"zaxis\": {\"nticks\": 4, \"range\": [-1, 1]}, \"camera\": {\"up\": {\"x\": 1, \"y\": 0, \"z\": 0}, \"center\": {\"x\": 0, \"y\": 0, \"z\": 0}, \"eye\": {\"x\": 0, \"y\": 0, \"z\": -2}}}, \"width\": 500, \"title\": \"cam\"},\n",
       "            {\"showLink\": true, \"linkText\": \"Export to plot.ly\"}\n",
       "        ).then(function () {return Plotly.addFrames('ade1feae-5059-4e3c-8897-d97874edd628',{});}).then(function(){Plotly.animate('ade1feae-5059-4e3c-8897-d97874edd628');})\n",
       "        });</script>"
      ],
      "text/vnd.plotly.v1+html": [
       "<div id=\"ade1feae-5059-4e3c-8897-d97874edd628\" style=\"height: 525px; width: 500px;\" class=\"plotly-graph-div\"></div><script type=\"text/javascript\">require([\"plotly\"], function(Plotly) { window.PLOTLYENV=window.PLOTLYENV || {};window.PLOTLYENV.BASE_URL=\"https://plot.ly\";\n",
       "        Plotly.plot(\n",
       "            'ade1feae-5059-4e3c-8897-d97874edd628',\n",
       "            [{\"marker\": {\"line\": {\"color\": \"rgba(200,200,200)\", \"width\": 0.5}, \"opacity\": 0.8, \"size\": 5}, \"mode\": \"markers\", \"text\": [\"head\", \"leftShoulder\", \"rightShoulder\", \"leftElbow\", \"rightElbow\", \"leftWrist\", \"rightWrist\", \"leftHip\", \"rightHip\", \"leftKnee\", \"rightKnee\", \"leftAnkle\", \"rightAnkle\"], \"x\": [0.01787276612698704, 0.09539768039620045, -0.028449052476364867, 0.06999804461385092, -0.10716452528089193, -0.06725274678666174, -0.23536280191308756, 0.06022966675647696, -0.0602296667564769, 0.047003340708958376, -0.17712208272609248, 0.07931419548473835, -0.060331927750523665], \"y\": [-0.693088639402305, -0.4044157557753494, -0.4212426603418806, -0.13831926653677296, -0.14784670946384448, 0.05838731008363962, 0.07796867575291033, -0.017394854987120567, 0.017394854987120567, 0.44000906193061773, 0.4495576529612402, 0.9067761548337127, 0.8801548879483134], \"z\": [0.04469592722474962, -0.08596366254009391, 0.15040662626853785, -0.19889036962189355, 0.20758717100626797, -0.30413754645033253, 0.17326227704289954, -0.12331385630715758, 0.12331385630715748, -0.06874787375160496, 0.014032689801720247, -0.002097243720967895, 0.16992929158273457], \"type\": \"scatter3d\", \"uid\": \"f5018571-b372-11e8-adf3-fa163ee24c06\"}],\n",
       "            {\"margin\": {\"b\": 0, \"l\": 0, \"r\": 0, \"t\": 0}, \"scene\": {\"aspectmode\": \"manual\", \"aspectratio\": {\"x\": 1, \"y\": 1, \"z\": 1}, \"xaxis\": {\"nticks\": 4, \"range\": [-1, 1]}, \"yaxis\": {\"nticks\": 4, \"range\": [-1, 1]}, \"zaxis\": {\"nticks\": 4, \"range\": [-1, 1]}, \"camera\": {\"up\": {\"x\": 1, \"y\": 0, \"z\": 0}, \"center\": {\"x\": 0, \"y\": 0, \"z\": 0}, \"eye\": {\"x\": 0, \"y\": 0, \"z\": -2}}}, \"width\": 500, \"title\": \"cam\"},\n",
       "            {\"showLink\": true, \"linkText\": \"Export to plot.ly\"}\n",
       "        ).then(function () {return Plotly.addFrames('ade1feae-5059-4e3c-8897-d97874edd628',{});}).then(function(){Plotly.animate('ade1feae-5059-4e3c-8897-d97874edd628');})\n",
       "        });</script>"
      ]
     },
     "metadata": {},
     "output_type": "display_data"
    }
   ],
   "source": [
    "data = read_data(\"dataset/human36M/data/\", [1], [\"Directions\"])\n",
    "frame_id = 1\n",
    "joints = data[(1,'Directions','Directions 1.h5')][frame_id]\n",
    "joints = joints.copy()\n",
    "\n",
    "joints[:,:] -= joints[:,:].min()\n",
    "joints[:,:] /= joints[:,:].max()\n",
    "joints[:,:] = joints[:,:]*2-1\n",
    "\n",
    "\n",
    "jointsList = [process_record(joints, 0, 0, False), \n",
    "          process_record(joints, 0, 0, True),\n",
    "          process_record(joints, math.pi/3, 0, False), \n",
    "          process_record(joints, math.pi/3, 0, False)]\n",
    "\n",
    "for joints in jointsList:\n",
    "    Visualization.plot_3d(joints)\n",
    "    "
   ]
  },
  {
   "cell_type": "code",
   "execution_count": 14,
   "metadata": {},
   "outputs": [
    {
     "name": "stdout",
     "output_type": "stream",
     "text": [
      "trainset done!\n",
      "testset done!\n"
     ]
    }
   ],
   "source": [
    "data_dir = \"dataset/human36M/data/\"\n",
    "\n",
    "actions = [\"Directions\",\"Discussion\",\"Eating\",\"Greeting\",\"Phoning\",\"Photo\",\"Posing\",\"Purchases\",\n",
    "           \"Sitting\",\"SittingDown\",\"Smoking\",\"Waiting\",\"WalkDog\",\"Walking\",\"WalkTogether\"]\n",
    "\n",
    "number_of_actions = len(actions)\n",
    "\n",
    "TRAIN_SUBJECTS = [1,5,6,7,8]\n",
    "TEST_SUBJECTS = [9,11]\n",
    "\n",
    "trainset = read_data( data_dir, TRAIN_SUBJECTS, actions)\n",
    "trainset = process_dataset(trainset)\n",
    "print(\"trainset done!\")\n",
    "testset = read_data( data_dir, TEST_SUBJECTS, actions)\n",
    "testset = process_dataset(testset)\n",
    "print(\"testset done!\")"
   ]
  },
  {
   "cell_type": "code",
   "execution_count": 15,
   "metadata": {},
   "outputs": [],
   "source": [
    "np.save(\"dataset/human36M/processed_data/train\", trainset)\n",
    "np.save(\"dataset/human36M/processed_data/test\", testset)"
   ]
  },
  {
   "cell_type": "markdown",
   "metadata": {},
   "source": [
    "## Train the model"
   ]
  },
  {
   "cell_type": "code",
   "execution_count": 4,
   "metadata": {},
   "outputs": [],
   "source": [
    "trainset = np.load(\"dataset/human36M/processed_data/train.npy\")\n",
    "testset = np.load(\"dataset/human36M/processed_data/test.npy\")"
   ]
  },
  {
   "cell_type": "code",
   "execution_count": 5,
   "metadata": {},
   "outputs": [],
   "source": [
    "def to_network_data(dataset):\n",
    "    \n",
    "    # dataset centered on hip center\n",
    "    dataset = dataset.copy()\n",
    "    widths = np.expand_dims(dataset[:,:,0].max(1) - dataset[:,:,0].min(1),1)\n",
    "    heights = np.expand_dims(dataset[:,:,1].max(1) - dataset[:,:,1].min(1),1)\n",
    "    bbox_size = np.concatenate([widths, heights],axis=1).max(1)\n",
    "    \n",
    "    features = []\n",
    "    values = []\n",
    "    \n",
    "    for i in range(dataset.shape[0]):\n",
    "        \n",
    "        features.append( ((dataset[i,:,:2]-dataset[i,:,:2].min(0))/bbox_size[i]).reshape(-1) )\n",
    "        \n",
    "        values.append(dataset[i,:,2]/bbox_size[i])\n",
    "    \n",
    "    return np.array(features), np.array(values)\n"
   ]
  },
  {
   "cell_type": "code",
   "execution_count": 20,
   "metadata": {},
   "outputs": [
    {
     "data": {
      "application/vnd.plotly.v1+json": {
       "data": [
        {
         "marker": {
          "line": {
           "color": "rgba(200,200,200)",
           "width": 0.5
          },
          "opacity": 0.8,
          "size": 5
         },
         "mode": "markers",
         "text": [
          "head",
          "leftShoulder",
          "rightShoulder",
          "leftElbow",
          "rightElbow",
          "leftWrist",
          "rightWrist",
          "leftHip",
          "rightHip",
          "leftKnee",
          "rightKnee",
          "leftAnkle",
          "rightAnkle"
         ],
         "type": "scatter3d",
         "uid": "a6fc57b2-b373-11e8-adf3-fa163ee24c06",
         "x": [
          0.0874478933301563,
          0.21491812158865725,
          0.08089537582514972,
          0.15866418224001727,
          0.051782139702379826,
          0.042656355306321,
          0,
          0.2908286139803741,
          0.19413825760478598,
          0.2511429935796136,
          0.15455421297555208,
          0.3402763837919548,
          0.2284584797230387
         ],
         "y": [
          0.07820111418587966,
          0.10748838016612183,
          0.24682601124947595,
          0,
          0.35578451140734957,
          0.07003717054335158,
          0.22148966983029628,
          0.4359647545570342,
          0.46030562813424075,
          0.7148314175906288,
          0.7370785050180623,
          0.975423193687548,
          1
         ],
         "z": [
          0.06629920485540201,
          0.010275776678730688,
          0.11562258738909684,
          -0.11999642016989871,
          -0.022107451585826908,
          -0.05662593553709813,
          -0.0628798578075478,
          -0.05541221895056809,
          0.05541221895056809,
          -0.08898218875281652,
          0.007467129013692641,
          -0.030639134926826517,
          0.07578298586939952
         ]
        }
       ],
       "layout": {
        "margin": {
         "b": 0,
         "l": 0,
         "r": 0,
         "t": 0
        },
        "scene": {
         "aspectmode": "manual",
         "aspectratio": {
          "x": 1,
          "y": 1,
          "z": 1
         },
         "camera": {
          "center": {
           "x": 0,
           "y": 0,
           "z": 0
          },
          "eye": {
           "x": 0,
           "y": 0,
           "z": -2
          },
          "up": {
           "x": 1,
           "y": 0,
           "z": 0
          }
         },
         "xaxis": {
          "nticks": 4,
          "range": [
           -1,
           1
          ]
         },
         "yaxis": {
          "nticks": 4,
          "range": [
           -1,
           1
          ]
         },
         "zaxis": {
          "nticks": 4,
          "range": [
           -1,
           1
          ]
         }
        },
        "title": "cam",
        "width": 500
       }
      },
      "text/html": [
       "<div id=\"2ce73bb8-a577-4514-b2cc-43d5bad19c66\" style=\"height: 525px; width: 500px;\" class=\"plotly-graph-div\"></div><script type=\"text/javascript\">require([\"plotly\"], function(Plotly) { window.PLOTLYENV=window.PLOTLYENV || {};window.PLOTLYENV.BASE_URL=\"https://plot.ly\";\n",
       "        Plotly.plot(\n",
       "            '2ce73bb8-a577-4514-b2cc-43d5bad19c66',\n",
       "            [{\"marker\": {\"line\": {\"color\": \"rgba(200,200,200)\", \"width\": 0.5}, \"opacity\": 0.8, \"size\": 5}, \"mode\": \"markers\", \"text\": [\"head\", \"leftShoulder\", \"rightShoulder\", \"leftElbow\", \"rightElbow\", \"leftWrist\", \"rightWrist\", \"leftHip\", \"rightHip\", \"leftKnee\", \"rightKnee\", \"leftAnkle\", \"rightAnkle\"], \"x\": [0.0874478933301563, 0.21491812158865725, 0.08089537582514972, 0.15866418224001727, 0.051782139702379826, 0.042656355306321, 0.0, 0.2908286139803741, 0.19413825760478598, 0.2511429935796136, 0.15455421297555208, 0.3402763837919548, 0.2284584797230387], \"y\": [0.07820111418587966, 0.10748838016612183, 0.24682601124947595, 0.0, 0.35578451140734957, 0.07003717054335158, 0.22148966983029628, 0.4359647545570342, 0.46030562813424075, 0.7148314175906288, 0.7370785050180623, 0.975423193687548, 1.0], \"z\": [0.06629920485540201, 0.010275776678730688, 0.11562258738909684, -0.11999642016989871, -0.022107451585826908, -0.05662593553709813, -0.0628798578075478, -0.05541221895056809, 0.05541221895056809, -0.08898218875281652, 0.007467129013692641, -0.030639134926826517, 0.07578298586939952], \"type\": \"scatter3d\", \"uid\": \"a6fc57b2-b373-11e8-adf3-fa163ee24c06\"}],\n",
       "            {\"margin\": {\"b\": 0, \"l\": 0, \"r\": 0, \"t\": 0}, \"scene\": {\"aspectmode\": \"manual\", \"aspectratio\": {\"x\": 1, \"y\": 1, \"z\": 1}, \"xaxis\": {\"nticks\": 4, \"range\": [-1, 1]}, \"yaxis\": {\"nticks\": 4, \"range\": [-1, 1]}, \"zaxis\": {\"nticks\": 4, \"range\": [-1, 1]}, \"camera\": {\"up\": {\"x\": 1, \"y\": 0, \"z\": 0}, \"center\": {\"x\": 0, \"y\": 0, \"z\": 0}, \"eye\": {\"x\": 0, \"y\": 0, \"z\": -2}}}, \"width\": 500, \"title\": \"cam\"},\n",
       "            {\"showLink\": true, \"linkText\": \"Export to plot.ly\"}\n",
       "        ).then(function () {return Plotly.addFrames('2ce73bb8-a577-4514-b2cc-43d5bad19c66',{});}).then(function(){Plotly.animate('2ce73bb8-a577-4514-b2cc-43d5bad19c66');})\n",
       "        });</script>"
      ],
      "text/vnd.plotly.v1+html": [
       "<div id=\"2ce73bb8-a577-4514-b2cc-43d5bad19c66\" style=\"height: 525px; width: 500px;\" class=\"plotly-graph-div\"></div><script type=\"text/javascript\">require([\"plotly\"], function(Plotly) { window.PLOTLYENV=window.PLOTLYENV || {};window.PLOTLYENV.BASE_URL=\"https://plot.ly\";\n",
       "        Plotly.plot(\n",
       "            '2ce73bb8-a577-4514-b2cc-43d5bad19c66',\n",
       "            [{\"marker\": {\"line\": {\"color\": \"rgba(200,200,200)\", \"width\": 0.5}, \"opacity\": 0.8, \"size\": 5}, \"mode\": \"markers\", \"text\": [\"head\", \"leftShoulder\", \"rightShoulder\", \"leftElbow\", \"rightElbow\", \"leftWrist\", \"rightWrist\", \"leftHip\", \"rightHip\", \"leftKnee\", \"rightKnee\", \"leftAnkle\", \"rightAnkle\"], \"x\": [0.0874478933301563, 0.21491812158865725, 0.08089537582514972, 0.15866418224001727, 0.051782139702379826, 0.042656355306321, 0.0, 0.2908286139803741, 0.19413825760478598, 0.2511429935796136, 0.15455421297555208, 0.3402763837919548, 0.2284584797230387], \"y\": [0.07820111418587966, 0.10748838016612183, 0.24682601124947595, 0.0, 0.35578451140734957, 0.07003717054335158, 0.22148966983029628, 0.4359647545570342, 0.46030562813424075, 0.7148314175906288, 0.7370785050180623, 0.975423193687548, 1.0], \"z\": [0.06629920485540201, 0.010275776678730688, 0.11562258738909684, -0.11999642016989871, -0.022107451585826908, -0.05662593553709813, -0.0628798578075478, -0.05541221895056809, 0.05541221895056809, -0.08898218875281652, 0.007467129013692641, -0.030639134926826517, 0.07578298586939952], \"type\": \"scatter3d\", \"uid\": \"a6fc57b2-b373-11e8-adf3-fa163ee24c06\"}],\n",
       "            {\"margin\": {\"b\": 0, \"l\": 0, \"r\": 0, \"t\": 0}, \"scene\": {\"aspectmode\": \"manual\", \"aspectratio\": {\"x\": 1, \"y\": 1, \"z\": 1}, \"xaxis\": {\"nticks\": 4, \"range\": [-1, 1]}, \"yaxis\": {\"nticks\": 4, \"range\": [-1, 1]}, \"zaxis\": {\"nticks\": 4, \"range\": [-1, 1]}, \"camera\": {\"up\": {\"x\": 1, \"y\": 0, \"z\": 0}, \"center\": {\"x\": 0, \"y\": 0, \"z\": 0}, \"eye\": {\"x\": 0, \"y\": 0, \"z\": -2}}}, \"width\": 500, \"title\": \"cam\"},\n",
       "            {\"showLink\": true, \"linkText\": \"Export to plot.ly\"}\n",
       "        ).then(function () {return Plotly.addFrames('2ce73bb8-a577-4514-b2cc-43d5bad19c66',{});}).then(function(){Plotly.animate('2ce73bb8-a577-4514-b2cc-43d5bad19c66');})\n",
       "        });</script>"
      ]
     },
     "metadata": {},
     "output_type": "display_data"
    }
   ],
   "source": [
    "rnd_ids = random.choices(range(testset.shape[0]))\n",
    "test_feats, test_values = to_network_data(testset[rnd_ids,:,:])\n",
    "test_record = np.concatenate([test_feats.reshape(-1,13,2)[0,:,:], np.expand_dims(test_values[0,:], 1)], axis=1)\n",
    "Visualization.plot_3d(test_record)"
   ]
  },
  {
   "cell_type": "code",
   "execution_count": 22,
   "metadata": {},
   "outputs": [],
   "source": [
    "train_feats, train_values = to_network_data(trainset)"
   ]
  },
  {
   "cell_type": "code",
   "execution_count": 6,
   "metadata": {},
   "outputs": [],
   "source": [
    "test_feats, test_values = to_network_data(testset)"
   ]
  },
  {
   "cell_type": "code",
   "execution_count": 7,
   "metadata": {},
   "outputs": [],
   "source": [
    "class BatchProvider:\n",
    "    \n",
    "    \n",
    "    def __init__(self, features, values, batch_size):\n",
    "        \n",
    "        self.features = features[:-(features.shape[0]%batch_size),:]\n",
    "        self.values = values[:-(values.shape[0]%batch_size)]\n",
    "        self.batch_size = batch_size\n",
    "    \n",
    "    \n",
    "    def shuffle(self):\n",
    "        rndIds = [i for i in range(self.features.shape[0])]\n",
    "        random.shuffle(rndIds)          \n",
    "        self.features = self.features[rndIds, :]\n",
    "        self.values = self.values[rndIds, :]\n",
    "        \n",
    "        \n",
    "    def size(self):\n",
    "        return int(self.features.shape[0]/self.batch_size)\n",
    "    \n",
    "    \n",
    "    def get_batch(self, batch_id):\n",
    "            \n",
    "        batch_feats = self.features[batch_id*self.batch_size:(batch_id+1)*self.batch_size,:]\n",
    "        batch_values = self.values[batch_id*self.batch_size:(batch_id+1)*self.batch_size,:]\n",
    "        \n",
    "        return (batch_feats, batch_values)\n",
    "        "
   ]
  },
  {
   "cell_type": "code",
   "execution_count": 37,
   "metadata": {},
   "outputs": [],
   "source": [
    "tf.reset_default_graph()\n",
    "config = tf.ConfigProto()\n",
    "session = tf.Session(config=config)"
   ]
  },
  {
   "cell_type": "code",
   "execution_count": 38,
   "metadata": {},
   "outputs": [],
   "source": [
    "linear_size=1024\n",
    "num_layers=2\n",
    "residual=True\n",
    "batch_norm=False\n",
    "max_norm=False\n",
    "batch_size=64\n",
    "learning_rate = 1e-3\n",
    "path_to_model = \"dataset/human36M/processed_data/v2/\"\n",
    "\n",
    "model = LinearModel(\n",
    "            linear_size,\n",
    "            num_layers,\n",
    "            residual,\n",
    "            batch_norm,\n",
    "            max_norm,\n",
    "            batch_size,\n",
    "            learning_rate,\n",
    "            path_to_model,\n",
    "            dtype=tf.float32)\n"
   ]
  },
  {
   "cell_type": "code",
   "execution_count": 39,
   "metadata": {},
   "outputs": [],
   "source": [
    "init = tf.global_variables_initializer()\n",
    "session.run(init)"
   ]
  },
  {
   "cell_type": "code",
   "execution_count": 28,
   "metadata": {},
   "outputs": [],
   "source": [
    "def train(session, model, trainset, testset, total_epochs, dropout, save_dir):\n",
    "    \n",
    "    test_every_n_batches = 10\n",
    "    \n",
    "    batchpro_train = BatchProvider(train_feats, train_values, model.batch_size)\n",
    "    batchpro_train.shuffle()\n",
    "    \n",
    "    batchpro_test = BatchProvider(test_feats, test_values, model.batch_size)\n",
    "    batchpro_test.shuffle()\n",
    "    \n",
    "    current_step = 0 \n",
    "    \n",
    "    print(current_step)\n",
    "    \n",
    "    for epoch in range(total_epochs):\n",
    "        \n",
    "        for batch_id in range(batchpro_train.size()):\n",
    "            \n",
    "            feat, values = batchpro_train.get_batch(batch_id)\n",
    "            \n",
    "            _, _, lr_summary, _ = model.step(session, feat, values, dropout)\n",
    "            model.train_writer.add_summary(lr_summary, current_step)\n",
    "            \n",
    "            if (batch_id+1)% test_every_n_batches == 0: \n",
    "                batch_test_id = random.choices([i for i in range(batchpro_test.size())])[0]\n",
    "                feat, values = batchpro_test.get_batch(batch_test_id)\n",
    "                _, loss_summary, _ = model.step(session, feat, values, 1.0, False)\n",
    "                model.train_writer.add_summary(loss_summary, current_step)\n",
    "                \n",
    "            current_step += 1\n",
    "            \n",
    "        model.saver.save(session, os.path.join(save_dir, 'checkpoint'), global_step=current_step )"
   ]
  },
  {
   "cell_type": "code",
   "execution_count": null,
   "metadata": {},
   "outputs": [
    {
     "name": "stdout",
     "output_type": "stream",
     "text": [
      "0\n"
     ]
    }
   ],
   "source": [
    "train(session, model, trainset, testset, 1000000, 0.8, \"parameters/pose_3d/v2\")"
   ]
  },
  {
   "cell_type": "markdown",
   "metadata": {},
   "source": [
    "# Export the model"
   ]
  },
  {
   "cell_type": "code",
   "execution_count": 41,
   "metadata": {},
   "outputs": [],
   "source": [
    "def export(session, outputFile=\"pose3d.pb\", outputName=\"Output\"):\n",
    "\n",
    "    input_graph_def = tf.get_default_graph().as_graph_def()\n",
    "\n",
    "    output_graph_def = tf.graph_util.convert_variables_to_constants(\n",
    "        session,\n",
    "        input_graph_def,\n",
    "        [outputName]\n",
    "    )\n",
    "\n",
    "    with tf.gfile.GFile(outputFile, \"wb\") as f:\n",
    "        f.write(output_graph_def.SerializeToString())"
   ]
  },
  {
   "cell_type": "code",
   "execution_count": 42,
   "metadata": {},
   "outputs": [
    {
     "name": "stdout",
     "output_type": "stream",
     "text": [
      "INFO:tensorflow:Froze 12 variables.\n",
      "Converted 12 variables to const ops.\n"
     ]
    }
   ],
   "source": [
    "export(session,\"pose3d.pb\", model.outputs.name.split(\":\")[0])"
   ]
  }
 ],
 "metadata": {
  "kernelspec": {
   "display_name": "Python 3",
   "language": "python",
   "name": "python3"
  },
  "language_info": {
   "codemirror_mode": {
    "name": "ipython",
    "version": 3
   },
   "file_extension": ".py",
   "mimetype": "text/x-python",
   "name": "python",
   "nbconvert_exporter": "python",
   "pygments_lexer": "ipython3",
   "version": "3.6.3"
  }
 },
 "nbformat": 4,
 "nbformat_minor": 1
}
